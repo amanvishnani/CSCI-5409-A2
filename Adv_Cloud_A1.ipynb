{
  "nbformat": 4,
  "nbformat_minor": 0,
  "metadata": {
    "colab": {
      "name": "Adv Cloud A1.ipynb",
      "provenance": [],
      "collapsed_sections": [],
      "authorship_tag": "ABX9TyNN2y3YRvI3ZatjAQTpQiSX",
      "include_colab_link": true
    },
    "kernelspec": {
      "name": "python3",
      "display_name": "Python 3"
    }
  },
  "cells": [
    {
      "cell_type": "markdown",
      "metadata": {
        "id": "view-in-github",
        "colab_type": "text"
      },
      "source": [
        "<a href=\"https://colab.research.google.com/github/amanvishnani/CSCI-5409-A2/blob/master/Adv_Cloud_A1.ipynb\" target=\"_parent\"><img src=\"https://colab.research.google.com/assets/colab-badge.svg\" alt=\"Open In Colab\"/></a>"
      ]
    },
    {
      "cell_type": "markdown",
      "metadata": {
        "id": "zcbScGSex9od",
        "colab_type": "text"
      },
      "source": [
        "Name: Aman Vishnani\n",
        "\n",
        "B00#: B00840115"
      ]
    },
    {
      "cell_type": "code",
      "metadata": {
        "id": "3_RPwlGOXER5",
        "colab_type": "code",
        "colab": {}
      },
      "source": [
        "%matplotlib inline\n",
        "import matplotlib as mpl\n",
        "import matplotlib.pyplot as plt"
      ],
      "execution_count": 0,
      "outputs": []
    },
    {
      "cell_type": "code",
      "metadata": {
        "id": "yCOqiBAtM29K",
        "colab_type": "code",
        "colab": {}
      },
      "source": [
        "import random"
      ],
      "execution_count": 0,
      "outputs": []
    },
    {
      "cell_type": "code",
      "metadata": {
        "id": "kZ1_RAezy7fB",
        "colab_type": "code",
        "colab": {}
      },
      "source": [
        "GB = 1000\n",
        "TB = 1_000_000\n",
        "PB = 1_000_000_000"
      ],
      "execution_count": 0,
      "outputs": []
    },
    {
      "cell_type": "markdown",
      "metadata": {
        "id": "MkYvcJT4UFMJ",
        "colab_type": "text"
      },
      "source": [
        "# Class Defination"
      ]
    },
    {
      "cell_type": "code",
      "metadata": {
        "id": "8mTlHzU8cR2N",
        "colab_type": "code",
        "colab": {}
      },
      "source": [
        "class Task:\n",
        "  \"\"\"\n",
        "  Task\n",
        "  A Task has a certain resource requirements to run.\n",
        "\n",
        "\n",
        "  memory: in MegaBytes default 1GB\n",
        "  storage: in MegaBytes default 10GB\n",
        "  pe: process executors count default 1\n",
        "  \"\"\"\n",
        "  def __init__(self, user, memory=1_000, storage=10_000, pe=1):\n",
        "    self.memory = memory\n",
        "    self.storage = storage\n",
        "    self.pe = pe\n",
        "    if user is None:\n",
        "      raise Exception(\"User is None\")\n",
        "    self.user = user\n",
        "    user.tasks.append(self)"
      ],
      "execution_count": 0,
      "outputs": []
    },
    {
      "cell_type": "code",
      "metadata": {
        "id": "lwVKGR-PVT3d",
        "colab_type": "code",
        "colab": {}
      },
      "source": [
        "class User:\n",
        "  \"\"\"User defines the type of user (public, private, hibrid)\n",
        "  User has a User_ID, some VMs allocated to it and tasks(requests) which \n",
        "  consume the resources. It also have some factor by which resources are scaled.\n",
        "  \"\"\"\n",
        "  id_count = 0\n",
        "  def __init__(self, user_type=\"public\", auto_scale_factor=None):\n",
        "    User.id_count = User.id_count + 1\n",
        "    self.user_id = User.id_count\n",
        "    self.user_type = user_type\n",
        "    self.vms = []\n",
        "    self.tasks = []\n",
        "    self.history  = {\"avail_mem\": [], \"avail_storage\":[], \"avail_pe\":[],\n",
        "                     \"total_mem\": [], \"total_storage\":[], \"total_pe\":[],\n",
        "                     \"used_mem\": [], \"used_storage\":[], \"used_pe\": []}\n",
        "\n",
        "    if (user_type is \"public\" or user_type is \"hybrid\") and auto_scale_factor is not None:\n",
        "      raise Exception(\"Only Private Users can configure auto_scale_factor\")\n",
        "      return\n",
        "    \n",
        "    if user_type is \"hybrid\":\n",
        "      self.auto_scale_factor = 0.6\n",
        "    elif user_type is \"private\" and auto_scale_factor is None:\n",
        "      self.auto_scale_factor = 0.6\n",
        "    else:\n",
        "      self.auto_scale_factor = auto_scale_factor\n",
        "\n",
        "  def get_available_resources(self):\n",
        "    (total_mem, total_storage, total_pe) = self.get_total_resources()\n",
        "    (used_mem, used_storage, used_pe) = self.get_used_resources()\n",
        "    return (total_mem - used_mem, total_storage - used_storage, total_pe - used_pe)\n",
        "\n",
        "  def get_used_resources(self):\n",
        "    mem = 0;\n",
        "    storage = 0\n",
        "    pe = 0\n",
        "    for task in self.tasks:\n",
        "      mem += task.memory\n",
        "      storage += task.storage\n",
        "      pe += task.pe\n",
        "    return (mem, storage, pe)\n",
        "\n",
        "  def get_total_resources(self):\n",
        "    mem = 0;\n",
        "    storage = 0\n",
        "    pe = 0\n",
        "    for vm in self.vms:\n",
        "      mem += vm.memory\n",
        "      storage += vm.storage\n",
        "      pe += vm.pe\n",
        "    return (mem, storage, pe)\n",
        "\n",
        "  def can_run_task(self, mem, storage, pe):\n",
        "    (avail_mem, avail_storage, avail_pe) = self.get_available_resources()\n",
        "    # print(\"USED\",self.get_used_resources())\n",
        "    # print(\"TOTAL\",self.get_total_resources())\n",
        "    if avail_mem < mem:\n",
        "      print(\"Available memory(\",avail_mem,\"MB) is less than requested memory (\", mem, \"MB)\")\n",
        "    elif avail_storage < storage:\n",
        "      print(\"Available storage(\",avail_storage,\"MB) is less than requested storage (\", storage, \"MB)\")\n",
        "    elif avail_pe < pe:\n",
        "      print(\"Available Executors(\",avail_pe,\") is less than requested Executors(\", pe, \")\")\n",
        "    return (avail_mem >= mem and avail_storage >= storage and avail_pe >= pe)\n",
        "\n",
        "  def scale_resources(self, data_center):\n",
        "    if self.auto_scale_factor is None:\n",
        "      raise Exception(\"Auto Scale factor is None or User is Public-User\")\n",
        "    (mem, storage, pe) = self.get_total_resources()\n",
        "    vm = Vm(self, (mem/self.auto_scale_factor)-mem, \n",
        "            (storage/self.auto_scale_factor)-storage,\n",
        "            (pe/self.auto_scale_factor)-pe)\n",
        "    print(f\"Scaling Resources for User_ID:{self.user_id} User_Type:'{self.user_type}' by Scale Factor: {self.auto_scale_factor}\")\n",
        "    print(f\"VM Configuration:{vm}\")\n",
        "    # print(\"USED\",self.get_used_resources())\n",
        "    # print(\"TOTAL\",self.get_total_resources())\n",
        "\n",
        "  def update_history(self):\n",
        "    (total_mem, total_storage, total_pe) = self.get_total_resources()\n",
        "    (avail_mem, avail_storage, avail_pe) = self.get_available_resources()\n",
        "    (used_mem, used_storage, used_pe) = self.get_used_resources()\n",
        "    self.history[\"total_mem\"].append(total_mem)\n",
        "    self.history[\"total_storage\"].append(total_storage)\n",
        "    self.history[\"total_pe\"].append(total_pe)\n",
        "\n",
        "    self.history[\"avail_mem\"].append(avail_mem)\n",
        "    self.history[\"avail_storage\"].append(avail_storage)\n",
        "    self.history[\"avail_pe\"].append(avail_pe)\n",
        "    \n",
        "    self.history[\"used_mem\"].append(used_mem)\n",
        "    self.history[\"used_storage\"].append(used_storage)\n",
        "    self.history[\"used_pe\"].append(used_pe)\n",
        "    \n",
        "  def plot_graph(self):\n",
        "    plt.plot(self.history[\"total_mem\"], linestyle='-', color='g', label='Total Memory')\n",
        "    plt.plot(self.history[\"used_mem\"], linestyle=':', color='g', label='Used Memory')\n",
        "    plt.plot(self.history[\"total_storage\"], linestyle='-', color='b', label='Total Storage')\n",
        "    plt.plot(self.history[\"used_storage\"], linestyle=':', color='b', label='Used Storage')\n",
        "    plt.legend(loc='best')\n",
        "    plt.figure()\n",
        "    plt.plot(self.history[\"total_pe\"], linestyle='-', color='r', label='Total PE')\n",
        "    plt.plot(self.history[\"used_pe\"], linestyle=':', color='r', label='Used PE')\n",
        "    plt.legend(loc='best')"
      ],
      "execution_count": 0,
      "outputs": []
    },
    {
      "cell_type": "code",
      "metadata": {
        "id": "Fl9SyZp3Pms6",
        "colab_type": "code",
        "colab": {}
      },
      "source": [
        "class Vm:\n",
        "  \"\"\"\n",
        "  memory: in MegaBytes default 1GB\n",
        "  storage: in MegaBytes default 10GB\n",
        "  pe: process executors count default 1\n",
        "  \"\"\"\n",
        "  def __init__(self, user, memory=1_000, storage=10_000, pe=1):\n",
        "    self.memory = memory\n",
        "    self.storage = storage\n",
        "    self.pe = pe\n",
        "    if user is None:\n",
        "      raise Exception(\"User is None\")\n",
        "    self.user = user\n",
        "    user.vms.append(self)\n",
        "\n",
        "  def __str__(self):\n",
        "    return f\"[Memory: {self.memory}MB, Storage: {self.storage}MB, PE:{self.pe}]\""
      ],
      "execution_count": 0,
      "outputs": []
    },
    {
      "cell_type": "code",
      "metadata": {
        "id": "N0Qbc9JCFXl0",
        "colab_type": "code",
        "colab": {}
      },
      "source": [
        "class DataCenter:\n",
        "  \"\"\"\n",
        "  DataCenter defines the maximum capacity a cloud can have.\n",
        "\n",
        "  \n",
        "  memory: in MegaBytes default 100TB\n",
        "  storage: in MegaBytes default 10PB\n",
        "  pe: process executors count default 10000\n",
        "  \"\"\"\n",
        "  def __init__(self, memory=100_000_000, storage=10_000_000_000, pe=10_000):\n",
        "    self.memory = memory\n",
        "    self.storage = storage\n",
        "    self.pe = pe\n",
        "    return\n",
        "\n",
        "  def get_vm(self, memory, storage, pe, user):\n",
        "    if memory > self.memory:\n",
        "      raise Exception(\"Cannot Allocate VM, not enough Memory in DataCenter\")\n",
        "    if storage > self.storage:\n",
        "      raise Exception(\"Cannot Allocate VM, not enough Storage in DataCenter\")\n",
        "    if pe > self.pe:\n",
        "      raise Exception(\"Cannot Allocate VM, not enough PE in DataCenter\")\n",
        "    self.memory = self.memory - memory\n",
        "    self.storage = self.storage - storage\n",
        "    self.pe = self.pe - pe\n",
        "    return Vm(user, memory, storage, pe)\n",
        "\n",
        "  def get_vms(self, memory, storage, pe, user, count=1):\n",
        "    all_vms = []\n",
        "    try:\n",
        "      for i in range(count):\n",
        "        vm = self.get_vm(memory, storage, pe, user)\n",
        "        all_vms.append(vm)\n",
        "    except:\n",
        "      print(\"Failed to provision all the resources.\")\n",
        "    return all_vms"
      ],
      "execution_count": 0,
      "outputs": []
    },
    {
      "cell_type": "code",
      "metadata": {
        "id": "ubi6rnn6E8bU",
        "colab_type": "code",
        "colab": {}
      },
      "source": [
        "class TaskRunner:\n",
        "  def __init__(self, data_center):\n",
        "    self.data_center = data_center\n",
        "  \n",
        "  def run_tasks(self, count, mem, storage, pe, user):\n",
        "    tasks = []\n",
        "    for i in range(count):\n",
        "      while (user.can_run_task(mem=mem, storage=storage, pe=pe) is False):\n",
        "        if user.user_type is \"public\":\n",
        "          print(\"Resources un-available and SLA does not provide Auto Scaling\")\n",
        "          print(\"Exiting\")\n",
        "          return\n",
        "        elif user.user_type is \"private\":\n",
        "          user.scale_resources(self.data_center)\n",
        "        else:\n",
        "          (mem, storage, pe) = user.get_used_resources()\n",
        "          (t_mem, t_storage, t_pe) = user.get_total_resources()\n",
        "          used = max(mem/t_mem, storage/t_storage, pe/t_pe)\n",
        "          print(used)\n",
        "          if used >= 0.6:\n",
        "            user.scale_resources(self.data_center)\n",
        "            continue\n",
        "          else:\n",
        "            print(\"less than 60% of the resources are used Auto Scaling is not possible\")\n",
        "            return\n",
        "      task = Task(user, mem, storage, pe)\n",
        "      user.update_history()\n",
        "      tasks.append(task)"
      ],
      "execution_count": 0,
      "outputs": []
    },
    {
      "cell_type": "markdown",
      "metadata": {
        "id": "xvfVE6XsUOKv",
        "colab_type": "text"
      },
      "source": [
        "# Public User Example"
      ]
    },
    {
      "cell_type": "markdown",
      "metadata": {
        "id": "qQenaQdfpYD4",
        "colab_type": "text"
      },
      "source": [
        "Create DataCenter with default params"
      ]
    },
    {
      "cell_type": "code",
      "metadata": {
        "id": "N0V2tUyZOcxE",
        "colab_type": "code",
        "colab": {}
      },
      "source": [
        "data_center = DataCenter()"
      ],
      "execution_count": 0,
      "outputs": []
    },
    {
      "cell_type": "markdown",
      "metadata": {
        "id": "FtA5dBCOpmgC",
        "colab_type": "text"
      },
      "source": [
        "Create public user which does not have auto scale feature."
      ]
    },
    {
      "cell_type": "code",
      "metadata": {
        "id": "PspFBygEXZOJ",
        "colab_type": "code",
        "colab": {}
      },
      "source": [
        "public_user = User(user_type=\"public\")"
      ],
      "execution_count": 0,
      "outputs": []
    },
    {
      "cell_type": "markdown",
      "metadata": {
        "id": "laE6opOYpwc7",
        "colab_type": "text"
      },
      "source": [
        "Allocate VirtualMachines to that Public User with specific configuration"
      ]
    },
    {
      "cell_type": "code",
      "metadata": {
        "id": "3veTeVJBXM9W",
        "colab_type": "code",
        "colab": {}
      },
      "source": [
        "all_vms = data_center.get_vms(memory=1 * GB, storage=1 * GB, pe=1, user=public_user, count=10_000)"
      ],
      "execution_count": 0,
      "outputs": []
    },
    {
      "cell_type": "markdown",
      "metadata": {
        "id": "XVAchl6pp7Ej",
        "colab_type": "text"
      },
      "source": [
        "Assert that VMs have been allocated"
      ]
    },
    {
      "cell_type": "code",
      "metadata": {
        "id": "QNYg8Iiw-ixl",
        "colab_type": "code",
        "outputId": "f9d0528f-8519-4d54-c241-f4de45d05039",
        "colab": {
          "base_uri": "https://localhost:8080/",
          "height": 34
        }
      },
      "source": [
        "len(all_vms)"
      ],
      "execution_count": 0,
      "outputs": [
        {
          "output_type": "execute_result",
          "data": {
            "text/plain": [
              "10000"
            ]
          },
          "metadata": {
            "tags": []
          },
          "execution_count": 12
        }
      ]
    },
    {
      "cell_type": "markdown",
      "metadata": {
        "id": "uZ2HFBlfqAk6",
        "colab_type": "text"
      },
      "source": [
        "Check if DataCenter has any free Process Executors"
      ]
    },
    {
      "cell_type": "code",
      "metadata": {
        "id": "1Bdc2_-YXUc4",
        "colab_type": "code",
        "outputId": "c0454fc8-ba36-4790-9f5d-2343c78bc03c",
        "colab": {
          "base_uri": "https://localhost:8080/",
          "height": 34
        }
      },
      "source": [
        "data_center.pe"
      ],
      "execution_count": 0,
      "outputs": [
        {
          "output_type": "execute_result",
          "data": {
            "text/plain": [
              "0"
            ]
          },
          "metadata": {
            "tags": []
          },
          "execution_count": 13
        }
      ]
    },
    {
      "cell_type": "markdown",
      "metadata": {
        "id": "JHRKqM4WqH85",
        "colab_type": "text"
      },
      "source": [
        "List out all the resources available to the user \n",
        "\n",
        "Format: (memory, storage, process executors) in Mega Bytes"
      ]
    },
    {
      "cell_type": "code",
      "metadata": {
        "id": "Qu7jdH5cXm64",
        "colab_type": "code",
        "outputId": "d967f07f-c9ea-487c-d7e4-253d1db474f8",
        "colab": {
          "base_uri": "https://localhost:8080/",
          "height": 34
        }
      },
      "source": [
        "public_user.get_available_resources()"
      ],
      "execution_count": 0,
      "outputs": [
        {
          "output_type": "execute_result",
          "data": {
            "text/plain": [
              "(10000000, 10000000, 10000)"
            ]
          },
          "metadata": {
            "tags": []
          },
          "execution_count": 14
        }
      ]
    },
    {
      "cell_type": "markdown",
      "metadata": {
        "id": "CUW6sBXtqZQj",
        "colab_type": "text"
      },
      "source": [
        "Create TaskRunner object which will run tasks and scale VMs if SLA provides auto scaling and the data center has the resources available for scaling"
      ]
    },
    {
      "cell_type": "code",
      "metadata": {
        "id": "qBobo0Qx0GN6",
        "colab_type": "code",
        "colab": {}
      },
      "source": [
        "runner = TaskRunner(data_center)"
      ],
      "execution_count": 0,
      "outputs": []
    },
    {
      "cell_type": "markdown",
      "metadata": {
        "id": "zXUyGl-5qu2w",
        "colab_type": "text"
      },
      "source": [
        "Run 500 tasks with given configuration."
      ]
    },
    {
      "cell_type": "code",
      "metadata": {
        "id": "EoY_rlMcPqmI",
        "colab_type": "code",
        "colab": {}
      },
      "source": [
        "runner.run_tasks(count=500, mem=1*GB, storage=5*GB, pe=2, user=public_user)"
      ],
      "execution_count": 0,
      "outputs": []
    },
    {
      "cell_type": "markdown",
      "metadata": {
        "id": "2DwshIHPq6ce",
        "colab_type": "text"
      },
      "source": [
        "Check available resources after few tasks have been assigned."
      ]
    },
    {
      "cell_type": "code",
      "metadata": {
        "id": "AVIFeSt7P4GB",
        "colab_type": "code",
        "outputId": "3de3057b-d586-4871-fa57-72e75aab10bd",
        "colab": {
          "base_uri": "https://localhost:8080/",
          "height": 34
        }
      },
      "source": [
        "public_user.get_available_resources()"
      ],
      "execution_count": 0,
      "outputs": [
        {
          "output_type": "execute_result",
          "data": {
            "text/plain": [
              "(9500000, 7500000, 9000)"
            ]
          },
          "metadata": {
            "tags": []
          },
          "execution_count": 17
        }
      ]
    },
    {
      "cell_type": "code",
      "metadata": {
        "id": "nWHpasSFQSAi",
        "colab_type": "code",
        "colab": {}
      },
      "source": [
        "runner.run_tasks(count=1500, mem=1*GB, storage=5*GB, pe=2, user=public_user)"
      ],
      "execution_count": 0,
      "outputs": []
    },
    {
      "cell_type": "code",
      "metadata": {
        "id": "4B5zkD3IQlV1",
        "colab_type": "code",
        "outputId": "feb3b4c1-18f5-45b9-a308-7988418acded",
        "colab": {
          "base_uri": "https://localhost:8080/",
          "height": 34
        }
      },
      "source": [
        "public_user.get_available_resources()"
      ],
      "execution_count": 0,
      "outputs": [
        {
          "output_type": "execute_result",
          "data": {
            "text/plain": [
              "(8000000, 0, 6000)"
            ]
          },
          "metadata": {
            "tags": []
          },
          "execution_count": 19
        }
      ]
    },
    {
      "cell_type": "code",
      "metadata": {
        "id": "RaMmbcKrQuj7",
        "colab_type": "code",
        "outputId": "1f49c130-012d-43d1-fdc9-660d017c8db3",
        "colab": {
          "base_uri": "https://localhost:8080/",
          "height": 34
        }
      },
      "source": [
        "public_user.get_used_resources()"
      ],
      "execution_count": 0,
      "outputs": [
        {
          "output_type": "execute_result",
          "data": {
            "text/plain": [
              "(2000000, 10000000, 4000)"
            ]
          },
          "metadata": {
            "tags": []
          },
          "execution_count": 20
        }
      ]
    },
    {
      "cell_type": "code",
      "metadata": {
        "id": "kq3HLjVhXQ5_",
        "colab_type": "code",
        "outputId": "c9cac2b0-6980-49d8-fd6a-dbd21790ff11",
        "colab": {
          "base_uri": "https://localhost:8080/",
          "height": 67
        }
      },
      "source": [
        "runner.run_tasks(count=1, mem=1*GB, storage=1*GB, pe=2, user=public_user)"
      ],
      "execution_count": 0,
      "outputs": [
        {
          "output_type": "stream",
          "text": [
            "Available storage( 0 MB) is less than requested storage ( 1000 MB)\n",
            "Resources un-available and SLA does not provide Auto Scaling\n",
            "Exiting\n"
          ],
          "name": "stdout"
        }
      ]
    },
    {
      "cell_type": "code",
      "metadata": {
        "id": "5bdaFQ1JKyFA",
        "colab_type": "code",
        "outputId": "d20ac0b3-ba54-4528-d84b-a52be8050b79",
        "colab": {
          "base_uri": "https://localhost:8080/",
          "height": 524
        }
      },
      "source": [
        "public_user.plot_graph()"
      ],
      "execution_count": 0,
      "outputs": [
        {
          "output_type": "display_data",
          "data": {
            "image/png": "[encoded data removed]",
            "text/plain": [
              "<Figure size 432x288 with 1 Axes>"
            ]
          },
          "metadata": {
            "tags": []
          }
        },
        {
          "output_type": "display_data",
          "data": {
            "image/png": "[encoded data removed]",
            "text/plain": [
              "<Figure size 432x288 with 1 Axes>"
            ]
          },
          "metadata": {
            "tags": []
          }
        }
      ]
    },
    {
      "cell_type": "markdown",
      "metadata": {
        "id": "X86FV7XoUXz6",
        "colab_type": "text"
      },
      "source": [
        "# Private User Example"
      ]
    },
    {
      "cell_type": "code",
      "metadata": {
        "id": "hUv4ObBsaePd",
        "colab_type": "code",
        "colab": {}
      },
      "source": [
        " data_center = DataCenter()"
      ],
      "execution_count": 0,
      "outputs": []
    },
    {
      "cell_type": "code",
      "metadata": {
        "id": "faZzutK88aWt",
        "colab_type": "code",
        "colab": {}
      },
      "source": [
        "private_user = User(user_type=\"private\")"
      ],
      "execution_count": 0,
      "outputs": []
    },
    {
      "cell_type": "code",
      "metadata": {
        "id": "N16tKwBI8ecX",
        "colab_type": "code",
        "colab": {}
      },
      "source": [
        "all_vms = data_center.get_vms(memory=1 * GB, storage=5 * GB, pe=1, user=private_user, count=1000)"
      ],
      "execution_count": 0,
      "outputs": []
    },
    {
      "cell_type": "code",
      "metadata": {
        "id": "XjUuJy1h8oIm",
        "colab_type": "code",
        "outputId": "8722d886-c2d4-4860-8303-24d982c137d2",
        "colab": {
          "base_uri": "https://localhost:8080/",
          "height": 118
        }
      },
      "source": [
        "runner = TaskRunner(data_center)\n",
        "for i in range(1000):\n",
        "  runner.run_tasks(count=1, mem=random.random()*GB, storage=random.random()*2*GB, pe=random.randint(1,3), user=private_user)"
      ],
      "execution_count": 0,
      "outputs": [
        {
          "output_type": "stream",
          "text": [
            "Available Executors( 0 ) is less than requested Executors( 3 )\n",
            "Scaling Resources for User_ID:2 User_Type:'private' by Scale Factor: 0.6\n",
            "VM Configuration:[Memory: 666666.6666666667MB, Storage: 3333333.333333334MB, PE:666.6666666666667]\n",
            "Available Executors( 0.6666666666667425 ) is less than requested Executors( 2 )\n",
            "Scaling Resources for User_ID:2 User_Type:'private' by Scale Factor: 0.6\n",
            "VM Configuration:[Memory: 1111111.1111111112MB, Storage: 5555555.555555556MB, PE:1111.111111111111]\n"
          ],
          "name": "stdout"
        }
      ]
    },
    {
      "cell_type": "code",
      "metadata": {
        "id": "eKQ2sVZc9ISR",
        "colab_type": "code",
        "outputId": "c564abbc-9257-4161-850e-633b53ba2401",
        "colab": {
          "base_uri": "https://localhost:8080/",
          "height": 34
        }
      },
      "source": [
        "private_user.get_used_resources()"
      ],
      "execution_count": 0,
      "outputs": [
        {
          "output_type": "execute_result",
          "data": {
            "text/plain": [
              "(492946.3435544279, 964451.586670997, 2001)"
            ]
          },
          "metadata": {
            "tags": []
          },
          "execution_count": 27
        }
      ]
    },
    {
      "cell_type": "code",
      "metadata": {
        "id": "e3Ysfqn--bzc",
        "colab_type": "code",
        "outputId": "347d815c-a344-4caa-cb9a-e7e2e0b720d9",
        "colab": {
          "base_uri": "https://localhost:8080/",
          "height": 34
        }
      },
      "source": [
        "private_user.get_available_resources()"
      ],
      "execution_count": 0,
      "outputs": [
        {
          "output_type": "execute_result",
          "data": {
            "text/plain": [
              "(2284831.43422335, 12924437.302217893, 776.7777777777778)"
            ]
          },
          "metadata": {
            "tags": []
          },
          "execution_count": 28
        }
      ]
    },
    {
      "cell_type": "code",
      "metadata": {
        "id": "XktFyIhPF49W",
        "colab_type": "code",
        "outputId": "ada5b7e0-5508-452c-8889-bbb0740aa3c9",
        "colab": {
          "base_uri": "https://localhost:8080/",
          "height": 524
        }
      },
      "source": [
        "\n",
        "private_user.plot_graph()"
      ],
      "execution_count": 0,
      "outputs": [
        {
          "output_type": "display_data",
          "data": {
            "image/png": "[encoded data removed]",
            "text/plain": [
              "<Figure size 432x288 with 1 Axes>"
            ]
          },
          "metadata": {
            "tags": []
          }
        },
        {
          "output_type": "display_data",
          "data": {
            "image/png": "[encoded data removed]",
            "text/plain": [
              "<Figure size 432x288 with 1 Axes>"
            ]
          },
          "metadata": {
            "tags": []
          }
        }
      ]
    },
    {
      "cell_type": "markdown",
      "metadata": {
        "id": "26ZOtBjoUhfi",
        "colab_type": "text"
      },
      "source": [
        "# Hybrid User"
      ]
    },
    {
      "cell_type": "code",
      "metadata": {
        "id": "TfmrXFWcQTsN",
        "colab_type": "code",
        "colab": {}
      },
      "source": [
        " data_center = DataCenter()"
      ],
      "execution_count": 0,
      "outputs": []
    },
    {
      "cell_type": "code",
      "metadata": {
        "id": "lG6wDGw2UlrX",
        "colab_type": "code",
        "colab": {}
      },
      "source": [
        "hybrid_user = User(user_type=\"hybrid\")"
      ],
      "execution_count": 0,
      "outputs": []
    },
    {
      "cell_type": "code",
      "metadata": {
        "id": "aOdEHsy0qE0a",
        "colab_type": "code",
        "outputId": "7528aad1-a44d-44b5-ac86-321c9bf2403e",
        "colab": {
          "base_uri": "https://localhost:8080/",
          "height": 34
        }
      },
      "source": [
        "hybrid_user.user_id"
      ],
      "execution_count": 0,
      "outputs": [
        {
          "output_type": "execute_result",
          "data": {
            "text/plain": [
              "3"
            ]
          },
          "metadata": {
            "tags": []
          },
          "execution_count": 32
        }
      ]
    },
    {
      "cell_type": "code",
      "metadata": {
        "id": "7e0JwKjFUqmY",
        "colab_type": "code",
        "colab": {}
      },
      "source": [
        "all_vms = data_center.get_vms(memory=1 * GB, storage=5 * GB, pe=1, user=hybrid_user, count=1000)"
      ],
      "execution_count": 0,
      "outputs": []
    },
    {
      "cell_type": "code",
      "metadata": {
        "id": "Zi5t-De7UuwK",
        "colab_type": "code",
        "outputId": "87868647-30c8-41cb-f771-fadcef558c40",
        "colab": {
          "base_uri": "https://localhost:8080/",
          "height": 269
        }
      },
      "source": [
        "runner = TaskRunner(data_center)\n",
        "for i in range(1000):\n",
        "  runner.run_tasks(count=1, mem=random.random()*GB, storage=random.random()*2*GB, pe=2, user=hybrid_user)"
      ],
      "execution_count": 0,
      "outputs": [
        {
          "output_type": "stream",
          "text": [
            "Available Executors( 0 ) is less than requested Executors( 2 )\n",
            "1.0\n",
            "Scaling Resources for User_ID:3 User_Type:'hybrid' by Scale Factor: 0.6\n",
            "VM Configuration:[Memory: 666666.6666666667MB, Storage: 3333333.333333334MB, PE:666.6666666666667]\n",
            "Available Executors( 666.6666666666667 ) is less than requested Executors( 1000 )\n",
            "0.6\n",
            "Scaling Resources for User_ID:3 User_Type:'hybrid' by Scale Factor: 0.6\n",
            "VM Configuration:[Memory: 1111111.1111111112MB, Storage: 5555555.555555556MB, PE:1111.111111111111]\n",
            "Available Executors( 1.7777777777778283 ) is less than requested Executors( 2 )\n",
            "0.99936\n",
            "Scaling Resources for User_ID:3 User_Type:'hybrid' by Scale Factor: 0.6\n",
            "VM Configuration:[Memory: 1851851.8518518526MB, Storage: 9259259.25925926MB, PE:1851.8518518518517]\n",
            "Available Executors( 1853.6296296296296 ) is less than requested Executors( 2776 )\n",
            "0.599616\n",
            "less than 60% of the resources are used Auto Scaling is not possible\n"
          ],
          "name": "stdout"
        }
      ]
    },
    {
      "cell_type": "code",
      "metadata": {
        "id": "zULDMr5mpavg",
        "colab_type": "code",
        "outputId": "46b4a0e4-e69a-4370-f816-603165f4f78e",
        "colab": {
          "base_uri": "https://localhost:8080/",
          "height": 34
        }
      },
      "source": [
        "len(hybrid_user.history['total_storage'])"
      ],
      "execution_count": 0,
      "outputs": [
        {
          "output_type": "execute_result",
          "data": {
            "text/plain": [
              "999"
            ]
          },
          "metadata": {
            "tags": []
          },
          "execution_count": 35
        }
      ]
    },
    {
      "cell_type": "code",
      "metadata": {
        "id": "_qIb0rj4U5X8",
        "colab_type": "code",
        "outputId": "5f815c15-a0b6-4729-fce1-a31406b7fb4b",
        "colab": {
          "base_uri": "https://localhost:8080/",
          "height": 524
        }
      },
      "source": [
        "hybrid_user.plot_graph()"
      ],
      "execution_count": 0,
      "outputs": [
        {
          "output_type": "display_data",
          "data": {
            "image/png": "[encoded data removed]",
            "text/plain": [
              "<Figure size 432x288 with 1 Axes>"
            ]
          },
          "metadata": {
            "tags": []
          }
        },
        {
          "output_type": "display_data",
          "data": {
            "image/png": "[encoded data removed]",
            "text/plain": [
              "<Figure size 432x288 with 1 Axes>"
            ]
          },
          "metadata": {
            "tags": []
          }
        }
      ]
    },
    {
      "cell_type": "code",
      "metadata": {
        "id": "3gSbMxbhWUVf",
        "colab_type": "code",
        "colab": {}
      },
      "source": [
        ""
      ],
      "execution_count": 0,
      "outputs": []
    }
  ]
}